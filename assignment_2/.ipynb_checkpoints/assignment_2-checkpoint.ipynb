{
 "cells": [
  {
   "cell_type": "markdown",
   "id": "541af1d0",
   "metadata": {},
   "source": [
    "# Jupyter Notebook for Assignmen 2 \n",
    "Due Saturday May 6th, 11:59 pm"
   ]
  },
  {
   "cell_type": "code",
   "execution_count": 1,
   "id": "620bd801",
   "metadata": {},
   "outputs": [],
   "source": [
    "import numpy as np"
   ]
  },
  {
   "cell_type": "code",
   "execution_count": 2,
   "id": "aec08dea",
   "metadata": {},
   "outputs": [],
   "source": [
    "#Part 1 \n",
    "def f(x):\n",
    "    \"\"\"\n",
    "    A function f\n",
    "    \n",
    "    Parameters\n",
    "    ---\n",
    "    x: input values to the function f(x)\n",
    "    \"\"\"\n",
    "    return x**3 - x**2 - 1\n",
    "\n",
    "def df(x):\n",
    "    \"\"\"\n",
    "    Derivative of the function f\n",
    "    \n",
    "    Parameters \n",
    "    ---\n",
    "    x : input value to the function df(x)\n",
    "    \"\"\"\n",
    "    return 3*x**2 - 2*x"
   ]
  },
  {
   "cell_type": "code",
   "execution_count": 3,
   "id": "f725ff2a",
   "metadata": {},
   "outputs": [],
   "source": [
    "#Part 2\n",
    "def newton(f1,df1, x0, epsilon, max_iter):\n",
    "    \"\"\"\n",
    "    Uses Newton itteration to find the roots of a given function. \n",
    "    Prints the number of iterations and returns the value of the root\n",
    "    \n",
    "    Parameters\n",
    "    ----\n",
    "        f1:         function that you want to find the root of \n",
    "        df1:        derivative of the function f1\n",
    "        x0:         initial guess at the root\n",
    "        epsilon:    The error tolerance in the solution\n",
    "        max_iter:   The maximum number of times the function iterates\n",
    "    \"\"\"\n",
    "    for i in range(max_iter):\n",
    "        \n",
    "        #check to see if x0 is a root of f1(x)\n",
    "        if abs(f1(x0))< epsilon: \n",
    "            print(\"Found root in\",i, \"iterations\")\n",
    "            return x0\n",
    "        \n",
    "        #if x0 is not a root, update x0 \n",
    "        elif abs(f1(x0))>epsilon:\n",
    "            x0 = x0 - f1(x0)/df1(x0)\n",
    "            \n",
    "    #if the root is not found in maximum number of iterations,root finding was unsuccessful\n",
    "    print(\"Iteration failed\")\n",
    "    return None"
   ]
  },
  {
   "cell_type": "code",
   "execution_count": 4,
   "id": "aa2510f9",
   "metadata": {
    "scrolled": true
   },
   "outputs": [
    {
     "name": "stdout",
     "output_type": "stream",
     "text": [
      "Found root in 10 iterations\n",
      "1.4655712318769198\n"
     ]
    }
   ],
   "source": [
    "#Part3\n",
    "trial1 = newton(f1=f,df1=df, x0 =-4, epsilon=10**(-6), max_iter=30)\n",
    "print(trial1)"
   ]
  },
  {
   "cell_type": "code",
   "execution_count": 5,
   "id": "d2614b3c",
   "metadata": {},
   "outputs": [
    {
     "name": "stdout",
     "output_type": "stream",
     "text": [
      "Found root in 5 iterations\n",
      "1.4655713749070918\n"
     ]
    }
   ],
   "source": [
    "trial2 = newton(f1=f,df1=df, x0 =1, epsilon=10**(-6), max_iter=30)\n",
    "print(trial2)"
   ]
  },
  {
   "cell_type": "code",
   "execution_count": 6,
   "id": "3e07d90f",
   "metadata": {},
   "outputs": [
    {
     "name": "stdout",
     "output_type": "stream",
     "text": [
      "Found root in 12 iterations\n",
      "1.465571489475598\n"
     ]
    }
   ],
   "source": [
    "trial3 = newton(f1=f,df1=df, x0 =40, epsilon=10**(-6), max_iter=30)\n",
    "print(trial3)"
   ]
  },
  {
   "cell_type": "markdown",
   "id": "9eabff46",
   "metadata": {},
   "source": [
    "Now reduce epsilon to 1e-8 and compare the number of iterations needed to find the root. "
   ]
  },
  {
   "cell_type": "code",
   "execution_count": 7,
   "id": "e41bee5f",
   "metadata": {},
   "outputs": [
    {
     "name": "stdout",
     "output_type": "stream",
     "text": [
      "Found root in 10 iterations\n",
      "1.4655712318769198\n"
     ]
    }
   ],
   "source": [
    "#now test with epsilon = 10**(-8)\n",
    "trial4 = newton(f1=f,df1=df, x0 =-4, epsilon=10**(-8), max_iter=30)\n",
    "print(trial4)"
   ]
  },
  {
   "cell_type": "code",
   "execution_count": 8,
   "id": "c6565f74",
   "metadata": {},
   "outputs": [
    {
     "name": "stdout",
     "output_type": "stream",
     "text": [
      "Found root in 6 iterations\n",
      "1.4655712318767877\n"
     ]
    }
   ],
   "source": [
    "trial5 = newton(f1=f,df1=df, x0 =1, epsilon=10**(-8), max_iter=30)\n",
    "print(trial5)"
   ]
  },
  {
   "cell_type": "code",
   "execution_count": 9,
   "id": "341774ec",
   "metadata": {},
   "outputs": [
    {
     "name": "stdout",
     "output_type": "stream",
     "text": [
      "Found root in 13 iterations\n",
      "1.4655712318768321\n"
     ]
    }
   ],
   "source": [
    "trial6 = newton(f1=f,df1=df, x0 =40, epsilon=10**(-8), max_iter=30)\n",
    "print(trial6)"
   ]
  },
  {
   "cell_type": "markdown",
   "id": "123e619d",
   "metadata": {},
   "source": [
    "For the initial condition x0 = -4, it took the same number of iterations for both values of epsilon. For x0 = 1, the larger value of epsilon took 5 iterations compared to 6 for epsilon 1e-8. For x0 = 40, epsilon = 1e-6 took 10 iterations compared to 13 iterations for epsilon 1e-8. "
   ]
  }
 ],
 "metadata": {
  "kernelspec": {
   "display_name": "Python 3 (ipykernel)",
   "language": "python",
   "name": "python3"
  },
  "language_info": {
   "codemirror_mode": {
    "name": "ipython",
    "version": 3
   },
   "file_extension": ".py",
   "mimetype": "text/x-python",
   "name": "python",
   "nbconvert_exporter": "python",
   "pygments_lexer": "ipython3",
   "version": "3.10.2"
  }
 },
 "nbformat": 4,
 "nbformat_minor": 5
}
